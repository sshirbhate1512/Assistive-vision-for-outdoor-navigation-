{
 "cells": [
  {
   "cell_type": "markdown",
   "metadata": {},
   "source": [
    "### Training of UNET-RESNET34 model on RTK Dataset"
   ]
  },
  {
   "cell_type": "code",
   "execution_count": 28,
   "metadata": {
    "colab": {
     "base_uri": "https://localhost:8080/"
    },
    "id": "woWwcX5eznYL",
    "outputId": "18a8bb26-38ed-4ba9-9b91-72e797605e51"
   },
   "outputs": [
    {
     "name": "stdout",
     "output_type": "stream",
     "text": [
      "Wed Mar 17 18:26:06 2021       \n",
      "+-----------------------------------------------------------------------------+\n",
      "| NVIDIA-SMI 460.32.03    Driver Version: 460.32.03    CUDA Version: 11.2     |\n",
      "|-------------------------------+----------------------+----------------------+\n",
      "| GPU  Name        Persistence-M| Bus-Id        Disp.A | Volatile Uncorr. ECC |\n",
      "| Fan  Temp  Perf  Pwr:Usage/Cap|         Memory-Usage | GPU-Util  Compute M. |\n",
      "|                               |                      |               MIG M. |\n",
      "|===============================+======================+======================|\n",
      "|   0  Tesla T4            Off  | 00000000:00:04.0 Off |                    0 |\n",
      "| N/A   74C    P0    33W /  70W |   6902MiB / 15109MiB |      0%      Default |\n",
      "|                               |                      |                  N/A |\n",
      "+-------------------------------+----------------------+----------------------+\n",
      "                                                                               \n",
      "+-----------------------------------------------------------------------------+\n",
      "| Processes:                                                                  |\n",
      "|  GPU   GI   CI        PID   Type   Process name                  GPU Memory |\n",
      "|        ID   ID                                                   Usage      |\n",
      "|=============================================================================|\n",
      "+-----------------------------------------------------------------------------+\n",
      "nvcc: NVIDIA (R) Cuda compiler driver\n",
      "Copyright (c) 2005-2020 NVIDIA Corporation\n",
      "Built on Wed_Jul_22_19:09:09_PDT_2020\n",
      "Cuda compilation tools, release 11.0, V11.0.221\n",
      "Build cuda_11.0_bu.TC445_37.28845127_0\n"
     ]
    }
   ],
   "source": [
    "%reload_ext autoreload\n",
    "%autoreload 2\n",
    "%matplotlib inline\n",
    "!/opt/bin/nvidia-smi\n",
    "!nvcc --version"
   ]
  },
  {
   "cell_type": "code",
   "execution_count": 29,
   "metadata": {
    "id": "rUlUjSarCbeu"
   },
   "outputs": [],
   "source": [
    "from fastai.vision import *\n",
    "from fastai.vision.interpret import *\n",
    "from fastai.callbacks.hooks import *\n",
    "from pathlib import Path\n",
    "from fastai.utils.mem import *\n",
    "torch.backends.cudnn.benchmark=True"
   ]
  },
  {
   "cell_type": "code",
   "execution_count": 30,
   "metadata": {
    "id": "fbNQPOrsCdRX"
   },
   "outputs": [],
   "source": [
    "import warnings\n",
    "warnings.filterwarnings(\"ignore\", category=UserWarning, module=\"torch.nn.functional\")"
   ]
  },
  {
   "cell_type": "code",
   "execution_count": 31,
   "metadata": {
    "colab": {
     "base_uri": "https://localhost:8080/"
    },
    "id": "D3GdYMqtCexi",
    "outputId": "84b652c9-d2d8-4fe9-a221-4955dda19bce"
   },
   "outputs": [
    {
     "name": "stdout",
     "output_type": "stream",
     "text": [
      "Drive already mounted at /content/gdrive; to attempt to forcibly remount, call drive.mount(\"/content/gdrive\", force_remount=True).\n"
     ]
    }
   ],
   "source": [
    "from google.colab import drive\n",
    "drive.mount('/content/gdrive')"
   ]
  },
  {
   "cell_type": "code",
   "execution_count": 32,
   "metadata": {
    "colab": {
     "base_uri": "https://localhost:8080/"
    },
    "id": "6yMPQ7v7CtbG",
    "outputId": "4bba7762-6641-4c00-977c-17f195acc627"
   },
   "outputs": [
    {
     "data": {
      "text/plain": [
       "[PosixPath('gdrive/My Drive/Colab Notebooks/codes.txt'),\n",
       " PosixPath('gdrive/My Drive/Colab Notebooks/.ipynb_checkpoints'),\n",
       " PosixPath('gdrive/My Drive/Colab Notebooks/valid.txt'),\n",
       " PosixPath('gdrive/My Drive/Colab Notebooks/colourlabels'),\n",
       " PosixPath('gdrive/My Drive/Colab Notebooks/images'),\n",
       " PosixPath('gdrive/My Drive/Colab Notebooks/labels'),\n",
       " PosixPath('gdrive/My Drive/Colab Notebooks/Untitled0.ipynb'),\n",
       " PosixPath('gdrive/My Drive/Colab Notebooks/RoadSurfaceSegmentation.ipynb'),\n",
       " PosixPath('gdrive/My Drive/Colab Notebooks/TEST.jpg'),\n",
       " PosixPath('gdrive/My Drive/Colab Notebooks/test_video.mp4'),\n",
       " PosixPath('gdrive/My Drive/Colab Notebooks/pathole5.jpg'),\n",
       " PosixPath('gdrive/My Drive/Colab Notebooks/pathole4.jpg'),\n",
       " PosixPath('gdrive/My Drive/Colab Notebooks/pathole3.jpg'),\n",
       " PosixPath('gdrive/My Drive/Colab Notebooks/pathhole2.jpg'),\n",
       " PosixPath('gdrive/My Drive/Colab Notebooks/pathhole1.jpg'),\n",
       " PosixPath('gdrive/My Drive/Colab Notebooks/pathhole5.jpg'),\n",
       " PosixPath('gdrive/My Drive/Colab Notebooks/bump.jpg'),\n",
       " PosixPath('gdrive/My Drive/Colab Notebooks/results'),\n",
       " PosixPath('gdrive/My Drive/Colab Notebooks/plain.jpg'),\n",
       " PosixPath('gdrive/My Drive/Colab Notebooks/Notting Hill and Portobello Road _ London Walking Tour_Trim.mp4'),\n",
       " PosixPath('gdrive/My Drive/Colab Notebooks/Walking in Indian Village _ Etawah City _ Relaxing Video _ Chitravasi_Trim.mp4'),\n",
       " PosixPath('gdrive/My Drive/Colab Notebooks/village road.jpg'),\n",
       " PosixPath('gdrive/My Drive/Colab Notebooks/curved.jpg'),\n",
       " PosixPath('gdrive/My Drive/Colab Notebooks/new_pathhole1.jpg'),\n",
       " PosixPath('gdrive/My Drive/Colab Notebooks/new_pathhole2.jpg'),\n",
       " PosixPath('gdrive/My Drive/Colab Notebooks/new_pathhole3.jpg'),\n",
       " PosixPath('gdrive/My Drive/Colab Notebooks/00001.jpg'),\n",
       " PosixPath('gdrive/My Drive/Colab Notebooks/new_pathhole4.jpg'),\n",
       " PosixPath('gdrive/My Drive/Colab Notebooks/gadiimage'),\n",
       " PosixPath('gdrive/My Drive/Colab Notebooks/zala2'),\n",
       " PosixPath('gdrive/My Drive/Colab Notebooks/result_sns'),\n",
       " PosixPath('gdrive/My Drive/Colab Notebooks/result_sns1'),\n",
       " PosixPath('gdrive/My Drive/Colab Notebooks/res.png'),\n",
       " PosixPath('gdrive/My Drive/Colab Notebooks/img.png'),\n",
       " PosixPath('gdrive/My Drive/Colab Notebooks/yolov3.weights'),\n",
       " PosixPath('gdrive/My Drive/Colab Notebooks/Untitled1.ipynb'),\n",
       " PosixPath('gdrive/My Drive/Colab Notebooks/Untitled2.ipynb'),\n",
       " PosixPath('gdrive/My Drive/Colab Notebooks/UNET RESNET TRAIN.ipynb')]"
      ]
     },
     "execution_count": 32,
     "metadata": {
      "tags": []
     },
     "output_type": "execute_result"
    }
   ],
   "source": [
    "path = Path('gdrive/My Drive/Colab Notebooks/')\n",
    "path.ls()"
   ]
  },
  {
   "cell_type": "code",
   "execution_count": 34,
   "metadata": {
    "id": "kfT8JAUYC-tp"
   },
   "outputs": [],
   "source": [
    "path_lbl = path/'labels'\n",
    "path_img = path/'images'"
   ]
  },
  {
   "cell_type": "code",
   "execution_count": 35,
   "metadata": {
    "colab": {
     "base_uri": "https://localhost:8080/"
    },
    "id": "N83tmLjBDAII",
    "outputId": "6ae49f5e-3c65-4c8d-b16a-3b1e86ee3aa2"
   },
   "outputs": [
    {
     "data": {
      "text/plain": [
       "701"
      ]
     },
     "execution_count": 35,
     "metadata": {
      "tags": []
     },
     "output_type": "execute_result"
    }
   ],
   "source": [
    "fnames = get_image_files(path_img)\n",
    "fnames[:3]\n",
    "len(fnames)"
   ]
  },
  {
   "cell_type": "code",
   "execution_count": 36,
   "metadata": {
    "colab": {
     "base_uri": "https://localhost:8080/"
    },
    "id": "ZvTFNcwxDB6C",
    "outputId": "4f845966-949f-47a6-a988-29af324db2c8"
   },
   "outputs": [
    {
     "data": {
      "text/plain": [
       "701"
      ]
     },
     "execution_count": 36,
     "metadata": {
      "tags": []
     },
     "output_type": "execute_result"
    }
   ],
   "source": [
    "lbl_names = get_image_files(path_lbl)\n",
    "lbl_names[:3]\n",
    "len(lbl_names)"
   ]
  },
  {
   "cell_type": "code",
   "execution_count": 37,
   "metadata": {
    "colab": {
     "base_uri": "https://localhost:8080/",
     "height": 259
    },
    "id": "Dzk-MfPYDD7p",
    "outputId": "37166d4f-fc6a-4b96-d736-494f16875358"
   },
   "outputs": [
    {
     "data": {
      "image/png": "[encoded data removed]",
      "text/plain": [
       "<Figure size 360x360 with 1 Axes>"
      ]
     },
     "metadata": {
      "needs_background": "light",
      "tags": []
     },
     "output_type": "display_data"
    }
   ],
   "source": [
    "img_f = fnames[139]\n",
    "img = open_image(img_f)\n",
    "img.show(figsize=(5,5))"
   ]
  },
  {
   "cell_type": "code",
   "execution_count": 38,
   "metadata": {
    "id": "KxBbLefJDFsd"
   },
   "outputs": [],
   "source": [
    "get_y_fn = lambda x: path_lbl/f'{x.stem}{x.suffix}'"
   ]
  },
  {
   "cell_type": "code",
   "execution_count": 39,
   "metadata": {
    "colab": {
     "base_uri": "https://localhost:8080/",
     "height": 259
    },
    "id": "P73xHjqaDHI7",
    "outputId": "7aeb97bf-06d1-48fd-fbda-b64a4a80e12a"
   },
   "outputs": [
    {
     "data": {
      "image/png": "[encoded data removed]",
      "text/plain": [
       "<Figure size 360x360 with 1 Axes>"
      ]
     },
     "metadata": {
      "needs_background": "light",
      "tags": []
     },
     "output_type": "display_data"
    }
   ],
   "source": [
    "mask = open_mask(get_y_fn(img_f))\n",
    "mask.show(figsize=(5,5), alpha=1)"
   ]
  },
  {
   "cell_type": "code",
   "execution_count": 40,
   "metadata": {
    "colab": {
     "base_uri": "https://localhost:8080/"
    },
    "id": "a_2SmfMCDI7n",
    "outputId": "e704d7e5-cf6f-4912-d0b5-da027e3b2655"
   },
   "outputs": [
    {
     "data": {
      "text/plain": [
       "(array([288, 352]), tensor([[[0, 0, 0,  ..., 0, 0, 0],\n",
       "          [0, 0, 0,  ..., 0, 0, 0],\n",
       "          [0, 0, 0,  ..., 0, 0, 0],\n",
       "          ...,\n",
       "          [3, 3, 3,  ..., 3, 3, 3],\n",
       "          [3, 3, 3,  ..., 3, 3, 3],\n",
       "          [3, 3, 3,  ..., 3, 3, 3]]]))"
      ]
     },
     "execution_count": 40,
     "metadata": {
      "tags": []
     },
     "output_type": "execute_result"
    }
   ],
   "source": [
    "src_size = np.array(mask.shape[1:])\n",
    "src_size,mask.data"
   ]
  },
  {
   "cell_type": "code",
   "execution_count": 46,
   "metadata": {
    "colab": {
     "base_uri": "https://localhost:8080/"
    },
    "id": "FZP0o8F9i5-o",
    "outputId": "4870eb9d-bd8e-453f-fa61-2051bfa7440c"
   },
   "outputs": [
    {
     "name": "stdout",
     "output_type": "stream",
     "text": [
      "using bs=8, have 8209MB of GPU RAM free\n"
     ]
    }
   ],
   "source": [
    "size = src_size\n",
    "\n",
    "free = gpu_mem_get_free_no_cache()\n",
    "# the max size of bs depends on the available GPU RAM\n",
    "if free > 8200: bs=8\n",
    "else:           bs=4\n",
    "print(f\"using bs={bs}, have {free}MB of GPU RAM free\")"
   ]
  },
  {
   "cell_type": "code",
   "execution_count": 47,
   "metadata": {
    "id": "FgHlUXXIjMKU"
   },
   "outputs": [],
   "source": [
    "src = (SegmentationItemList.from_folder(path_img)\n",
    "       .split_by_fname_file('../valid.txt')\n",
    "       .label_from_func(get_y_fn, classes=codes))"
   ]
  },
  {
   "cell_type": "code",
   "execution_count": 48,
   "metadata": {
    "id": "0WjndpsWjN85"
   },
   "outputs": [],
   "source": [
    "data = (src.transform(get_transforms(), size=size, tfm_y=True)\n",
    "        .databunch(bs=bs)\n",
    "        .normalize(imagenet_stats))"
   ]
  },
  {
   "cell_type": "code",
   "execution_count": 51,
   "metadata": {
    "id": "51MWvFIcj8PK"
   },
   "outputs": [],
   "source": [
    "name2id = {v:k for k,v in enumerate(codes)}\n",
    "void_code = name2id['manholeCover']\n",
    "\n",
    "def acc_rtk(input, target):\n",
    "    target = target.squeeze(1)\n",
    "    mask = target != void_code\n",
    "    return (input.argmax(dim=1)[mask]==target[mask]).float().mean()"
   ]
  },
  {
   "cell_type": "code",
   "execution_count": 52,
   "metadata": {
    "id": "U-TFrct9kEI7"
   },
   "outputs": [],
   "source": [
    "metrics=acc_rtk\n",
    "wd=1e-2"
   ]
  },
  {
   "cell_type": "code",
   "execution_count": 53,
   "metadata": {
    "id": "XhlXrkb3kGqL"
   },
   "outputs": [],
   "source": [
    "balanced_loss = CrossEntropyFlat(axis=1, weight=torch.tensor([1.0,5.0,6.0,7.0,75.0,1000.0,3100.0,3300.0,0.0,270.0,2200.0,1000.0,180.0]).cuda())"
   ]
  },
  {
   "cell_type": "code",
   "execution_count": 54,
   "metadata": {
    "id": "r53gfgy6kKsP"
   },
   "outputs": [],
   "source": [
    "learn = unet_learner(data, models.resnet34, metrics=metrics, loss_func=balanced_loss, wd=wd)"
   ]
  },
  {
   "cell_type": "code",
   "execution_count": 56,
   "metadata": {
    "colab": {
     "base_uri": "https://localhost:8080/",
     "height": 373
    },
    "id": "BrjsLWBnkXM4",
    "outputId": "80a72715-43a4-4abb-a113-9dcd592e9f75"
   },
   "outputs": [
    {
     "data": {
      "text/html": [
       "\n",
       "    <div>\n",
       "        <style>\n",
       "            /* Turns off some styling */\n",
       "            progress {\n",
       "                /* gets rid of default border in Firefox and Opera. */\n",
       "                border: none;\n",
       "                /* Needs to be in here for Safari polyfill so background images work as expected. */\n",
       "                background-size: auto;\n",
       "            }\n",
       "            .progress-bar-interrupted, .progress-bar-interrupted::-webkit-progress-bar {\n",
       "                background: #F44336;\n",
       "            }\n",
       "        </style>\n",
       "      <progress value='0' class='' max='2' style='width:300px; height:20px; vertical-align: middle;'></progress>\n",
       "      0.00% [0/2 00:00<00:00]\n",
       "    </div>\n",
       "    \n",
       "<table border=\"1\" class=\"dataframe\">\n",
       "  <thead>\n",
       "    <tr style=\"text-align: left;\">\n",
       "      <th>epoch</th>\n",
       "      <th>train_loss</th>\n",
       "      <th>valid_loss</th>\n",
       "      <th>acc_rtk</th>\n",
       "      <th>time</th>\n",
       "    </tr>\n",
       "  </thead>\n",
       "  <tbody>\n",
       "  </tbody>\n",
       "</table><p>\n",
       "\n",
       "    <div>\n",
       "        <style>\n",
       "            /* Turns off some styling */\n",
       "            progress {\n",
       "                /* gets rid of default border in Firefox and Opera. */\n",
       "                border: none;\n",
       "                /* Needs to be in here for Safari polyfill so background images work as expected. */\n",
       "                background-size: auto;\n",
       "            }\n",
       "            .progress-bar-interrupted, .progress-bar-interrupted::-webkit-progress-bar {\n",
       "                background: #F44336;\n",
       "            }\n",
       "        </style>\n",
       "      <progress value='69' class='' max='70' style='width:300px; height:20px; vertical-align: middle;'></progress>\n",
       "      98.57% [69/70 00:45<00:00 2.8170]\n",
       "    </div>\n",
       "    "
      ],
      "text/plain": [
       "<IPython.core.display.HTML object>"
      ]
     },
     "metadata": {
      "tags": []
     },
     "output_type": "display_data"
    },
    {
     "name": "stdout",
     "output_type": "stream",
     "text": [
      "LR Finder is complete, type {learner_name}.recorder.plot() to see the graph.\n"
     ]
    },
    {
     "data": {
      "image/png": "[encoded data removed]",
      "text/plain": [
       "<Figure size 432x288 with 1 Axes>"
      ]
     },
     "metadata": {
      "needs_background": "light",
      "tags": []
     },
     "output_type": "display_data"
    }
   ],
   "source": [
    "#CUDA_LAUNCH_BLOCKING=1\n",
    "lr_find(learn)\n",
    "learn.recorder.plot()"
   ]
  },
  {
   "cell_type": "code",
   "execution_count": 57,
   "metadata": {
    "id": "vF7XVkIhkZIf"
   },
   "outputs": [],
   "source": [
    "lr=1e-4"
   ]
  },
  {
   "cell_type": "code",
   "execution_count": 58,
   "metadata": {
    "colab": {
     "base_uri": "https://localhost:8080/",
     "height": 692
    },
    "id": "MmG820FAkazZ",
    "outputId": "0d2081f2-0b1f-4895-848e-6961fe682228"
   },
   "outputs": [
    {
     "data": {
      "text/html": [
       "\n",
       "    <div>\n",
       "        <style>\n",
       "            /* Turns off some styling */\n",
       "            progress {\n",
       "                /* gets rid of default border in Firefox and Opera. */\n",
       "                border: none;\n",
       "                /* Needs to be in here for Safari polyfill so background images work as expected. */\n",
       "                background-size: auto;\n",
       "            }\n",
       "            .progress-bar-interrupted, .progress-bar-interrupted::-webkit-progress-bar {\n",
       "                background: #F44336;\n",
       "            }\n",
       "        </style>\n",
       "      <progress value='9' class='' max='10' style='width:300px; height:20px; vertical-align: middle;'></progress>\n",
       "      90.00% [9/10 07:27<00:49]\n",
       "    </div>\n",
       "    \n",
       "<table border=\"1\" class=\"dataframe\">\n",
       "  <thead>\n",
       "    <tr style=\"text-align: left;\">\n",
       "      <th>epoch</th>\n",
       "      <th>train_loss</th>\n",
       "      <th>valid_loss</th>\n",
       "      <th>acc_rtk</th>\n",
       "      <th>time</th>\n",
       "    </tr>\n",
       "  </thead>\n",
       "  <tbody>\n",
       "    <tr>\n",
       "      <td>0</td>\n",
       "      <td>2.825742</td>\n",
       "      <td>2.649345</td>\n",
       "      <td>0.100898</td>\n",
       "      <td>00:49</td>\n",
       "    </tr>\n",
       "    <tr>\n",
       "      <td>1</td>\n",
       "      <td>2.521294</td>\n",
       "      <td>2.313853</td>\n",
       "      <td>0.195008</td>\n",
       "      <td>00:50</td>\n",
       "    </tr>\n",
       "    <tr>\n",
       "      <td>2</td>\n",
       "      <td>2.071738</td>\n",
       "      <td>1.859656</td>\n",
       "      <td>0.647364</td>\n",
       "      <td>00:49</td>\n",
       "    </tr>\n",
       "    <tr>\n",
       "      <td>3</td>\n",
       "      <td>1.721732</td>\n",
       "      <td>1.556502</td>\n",
       "      <td>0.587214</td>\n",
       "      <td>00:49</td>\n",
       "    </tr>\n",
       "    <tr>\n",
       "      <td>4</td>\n",
       "      <td>1.459821</td>\n",
       "      <td>2.252451</td>\n",
       "      <td>0.637007</td>\n",
       "      <td>00:49</td>\n",
       "    </tr>\n",
       "    <tr>\n",
       "      <td>5</td>\n",
       "      <td>1.308118</td>\n",
       "      <td>1.263103</td>\n",
       "      <td>0.713593</td>\n",
       "      <td>00:49</td>\n",
       "    </tr>\n",
       "    <tr>\n",
       "      <td>6</td>\n",
       "      <td>1.256283</td>\n",
       "      <td>1.003850</td>\n",
       "      <td>0.777886</td>\n",
       "      <td>00:49</td>\n",
       "    </tr>\n",
       "    <tr>\n",
       "      <td>7</td>\n",
       "      <td>1.045056</td>\n",
       "      <td>0.903440</td>\n",
       "      <td>0.795632</td>\n",
       "      <td>00:49</td>\n",
       "    </tr>\n",
       "    <tr>\n",
       "      <td>8</td>\n",
       "      <td>0.892240</td>\n",
       "      <td>1.008388</td>\n",
       "      <td>0.755425</td>\n",
       "      <td>00:49</td>\n",
       "    </tr>\n",
       "  </tbody>\n",
       "</table><p>\n",
       "\n",
       "    <div>\n",
       "        <style>\n",
       "            /* Turns off some styling */\n",
       "            progress {\n",
       "                /* gets rid of default border in Firefox and Opera. */\n",
       "                border: none;\n",
       "                /* Needs to be in here for Safari polyfill so background images work as expected. */\n",
       "                background-size: auto;\n",
       "            }\n",
       "            .progress-bar-interrupted, .progress-bar-interrupted::-webkit-progress-bar {\n",
       "                background: #F44336;\n",
       "            }\n",
       "        </style>\n",
       "      <progress value='25' class='' max='70' style='width:300px; height:20px; vertical-align: middle;'></progress>\n",
       "      35.71% [25/70 00:16<00:29 0.9169]\n",
       "    </div>\n",
       "    "
      ],
      "text/plain": [
       "<IPython.core.display.HTML object>"
      ]
     },
     "metadata": {
      "tags": []
     },
     "output_type": "display_data"
    },
    {
     "data": {
      "text/html": [
       "<table border=\"1\" class=\"dataframe\">\n",
       "  <thead>\n",
       "    <tr style=\"text-align: left;\">\n",
       "      <th>epoch</th>\n",
       "      <th>train_loss</th>\n",
       "      <th>valid_loss</th>\n",
       "      <th>acc_rtk</th>\n",
       "      <th>time</th>\n",
       "    </tr>\n",
       "  </thead>\n",
       "  <tbody>\n",
       "    <tr>\n",
       "      <td>0</td>\n",
       "      <td>2.825742</td>\n",
       "      <td>2.649345</td>\n",
       "      <td>0.100898</td>\n",
       "      <td>00:49</td>\n",
       "    </tr>\n",
       "    <tr>\n",
       "      <td>1</td>\n",
       "      <td>2.521294</td>\n",
       "      <td>2.313853</td>\n",
       "      <td>0.195008</td>\n",
       "      <td>00:50</td>\n",
       "    </tr>\n",
       "    <tr>\n",
       "      <td>2</td>\n",
       "      <td>2.071738</td>\n",
       "      <td>1.859656</td>\n",
       "      <td>0.647364</td>\n",
       "      <td>00:49</td>\n",
       "    </tr>\n",
       "    <tr>\n",
       "      <td>3</td>\n",
       "      <td>1.721732</td>\n",
       "      <td>1.556502</td>\n",
       "      <td>0.587214</td>\n",
       "      <td>00:49</td>\n",
       "    </tr>\n",
       "    <tr>\n",
       "      <td>4</td>\n",
       "      <td>1.459821</td>\n",
       "      <td>2.252451</td>\n",
       "      <td>0.637007</td>\n",
       "      <td>00:49</td>\n",
       "    </tr>\n",
       "    <tr>\n",
       "      <td>5</td>\n",
       "      <td>1.308118</td>\n",
       "      <td>1.263103</td>\n",
       "      <td>0.713593</td>\n",
       "      <td>00:49</td>\n",
       "    </tr>\n",
       "    <tr>\n",
       "      <td>6</td>\n",
       "      <td>1.256283</td>\n",
       "      <td>1.003850</td>\n",
       "      <td>0.777886</td>\n",
       "      <td>00:49</td>\n",
       "    </tr>\n",
       "    <tr>\n",
       "      <td>7</td>\n",
       "      <td>1.045056</td>\n",
       "      <td>0.903440</td>\n",
       "      <td>0.795632</td>\n",
       "      <td>00:49</td>\n",
       "    </tr>\n",
       "    <tr>\n",
       "      <td>8</td>\n",
       "      <td>0.892240</td>\n",
       "      <td>1.008388</td>\n",
       "      <td>0.755425</td>\n",
       "      <td>00:49</td>\n",
       "    </tr>\n",
       "    <tr>\n",
       "      <td>9</td>\n",
       "      <td>0.919836</td>\n",
       "      <td>0.739001</td>\n",
       "      <td>0.827747</td>\n",
       "      <td>00:49</td>\n",
       "    </tr>\n",
       "  </tbody>\n",
       "</table>"
      ],
      "text/plain": [
       "<IPython.core.display.HTML object>"
      ]
     },
     "metadata": {
      "tags": []
     },
     "output_type": "display_data"
    }
   ],
   "source": [
    "learn.fit_one_cycle(10, slice(lr), pct_start=0.9)"
   ]
  },
  {
   "cell_type": "code",
   "execution_count": 59,
   "metadata": {
    "colab": {
     "base_uri": "https://localhost:8080/",
     "height": 1000
    },
    "id": "6C5gFMv7olCX",
    "outputId": "5253ce96-9160-4ace-9318-1763a5f4b3bc"
   },
   "outputs": [
    {
     "data": {
      "text/html": [
       "<table border=\"1\" class=\"dataframe\">\n",
       "  <thead>\n",
       "    <tr style=\"text-align: left;\">\n",
       "      <th>epoch</th>\n",
       "      <th>train_loss</th>\n",
       "      <th>valid_loss</th>\n",
       "      <th>acc_rtk</th>\n",
       "      <th>time</th>\n",
       "    </tr>\n",
       "  </thead>\n",
       "  <tbody>\n",
       "    <tr>\n",
       "      <td>0</td>\n",
       "      <td>0.758094</td>\n",
       "      <td>0.686564</td>\n",
       "      <td>0.829445</td>\n",
       "      <td>00:50</td>\n",
       "    </tr>\n",
       "    <tr>\n",
       "      <td>1</td>\n",
       "      <td>0.706750</td>\n",
       "      <td>0.652492</td>\n",
       "      <td>0.834141</td>\n",
       "      <td>00:49</td>\n",
       "    </tr>\n",
       "    <tr>\n",
       "      <td>2</td>\n",
       "      <td>0.668010</td>\n",
       "      <td>0.632793</td>\n",
       "      <td>0.838508</td>\n",
       "      <td>00:49</td>\n",
       "    </tr>\n",
       "    <tr>\n",
       "      <td>3</td>\n",
       "      <td>0.637982</td>\n",
       "      <td>0.611517</td>\n",
       "      <td>0.841935</td>\n",
       "      <td>00:49</td>\n",
       "    </tr>\n",
       "    <tr>\n",
       "      <td>4</td>\n",
       "      <td>0.587502</td>\n",
       "      <td>0.594977</td>\n",
       "      <td>0.841768</td>\n",
       "      <td>00:49</td>\n",
       "    </tr>\n",
       "    <tr>\n",
       "      <td>5</td>\n",
       "      <td>0.588219</td>\n",
       "      <td>0.576532</td>\n",
       "      <td>0.842146</td>\n",
       "      <td>00:49</td>\n",
       "    </tr>\n",
       "    <tr>\n",
       "      <td>6</td>\n",
       "      <td>0.584333</td>\n",
       "      <td>0.562825</td>\n",
       "      <td>0.846140</td>\n",
       "      <td>00:49</td>\n",
       "    </tr>\n",
       "    <tr>\n",
       "      <td>7</td>\n",
       "      <td>0.576902</td>\n",
       "      <td>0.545035</td>\n",
       "      <td>0.850006</td>\n",
       "      <td>00:49</td>\n",
       "    </tr>\n",
       "    <tr>\n",
       "      <td>8</td>\n",
       "      <td>0.575153</td>\n",
       "      <td>0.531787</td>\n",
       "      <td>0.850410</td>\n",
       "      <td>00:49</td>\n",
       "    </tr>\n",
       "    <tr>\n",
       "      <td>9</td>\n",
       "      <td>0.543988</td>\n",
       "      <td>0.521240</td>\n",
       "      <td>0.850927</td>\n",
       "      <td>00:49</td>\n",
       "    </tr>\n",
       "    <tr>\n",
       "      <td>10</td>\n",
       "      <td>0.505917</td>\n",
       "      <td>0.510900</td>\n",
       "      <td>0.852833</td>\n",
       "      <td>00:49</td>\n",
       "    </tr>\n",
       "    <tr>\n",
       "      <td>11</td>\n",
       "      <td>0.497436</td>\n",
       "      <td>0.493519</td>\n",
       "      <td>0.850831</td>\n",
       "      <td>00:49</td>\n",
       "    </tr>\n",
       "    <tr>\n",
       "      <td>12</td>\n",
       "      <td>0.502824</td>\n",
       "      <td>0.484312</td>\n",
       "      <td>0.856457</td>\n",
       "      <td>00:49</td>\n",
       "    </tr>\n",
       "    <tr>\n",
       "      <td>13</td>\n",
       "      <td>0.469988</td>\n",
       "      <td>0.468750</td>\n",
       "      <td>0.859188</td>\n",
       "      <td>00:49</td>\n",
       "    </tr>\n",
       "    <tr>\n",
       "      <td>14</td>\n",
       "      <td>0.480835</td>\n",
       "      <td>0.460406</td>\n",
       "      <td>0.858685</td>\n",
       "      <td>00:49</td>\n",
       "    </tr>\n",
       "    <tr>\n",
       "      <td>15</td>\n",
       "      <td>0.446913</td>\n",
       "      <td>0.453720</td>\n",
       "      <td>0.862154</td>\n",
       "      <td>00:49</td>\n",
       "    </tr>\n",
       "    <tr>\n",
       "      <td>16</td>\n",
       "      <td>0.445956</td>\n",
       "      <td>0.437488</td>\n",
       "      <td>0.863836</td>\n",
       "      <td>00:49</td>\n",
       "    </tr>\n",
       "    <tr>\n",
       "      <td>17</td>\n",
       "      <td>0.420832</td>\n",
       "      <td>0.436958</td>\n",
       "      <td>0.865843</td>\n",
       "      <td>00:49</td>\n",
       "    </tr>\n",
       "    <tr>\n",
       "      <td>18</td>\n",
       "      <td>0.423181</td>\n",
       "      <td>0.426969</td>\n",
       "      <td>0.857121</td>\n",
       "      <td>00:49</td>\n",
       "    </tr>\n",
       "    <tr>\n",
       "      <td>19</td>\n",
       "      <td>0.420101</td>\n",
       "      <td>0.414028</td>\n",
       "      <td>0.868143</td>\n",
       "      <td>00:49</td>\n",
       "    </tr>\n",
       "    <tr>\n",
       "      <td>20</td>\n",
       "      <td>0.392324</td>\n",
       "      <td>0.404297</td>\n",
       "      <td>0.872872</td>\n",
       "      <td>00:49</td>\n",
       "    </tr>\n",
       "    <tr>\n",
       "      <td>21</td>\n",
       "      <td>0.410527</td>\n",
       "      <td>0.403797</td>\n",
       "      <td>0.868400</td>\n",
       "      <td>00:49</td>\n",
       "    </tr>\n",
       "    <tr>\n",
       "      <td>22</td>\n",
       "      <td>0.376902</td>\n",
       "      <td>0.398918</td>\n",
       "      <td>0.870832</td>\n",
       "      <td>00:49</td>\n",
       "    </tr>\n",
       "    <tr>\n",
       "      <td>23</td>\n",
       "      <td>0.377902</td>\n",
       "      <td>0.397880</td>\n",
       "      <td>0.874182</td>\n",
       "      <td>00:49</td>\n",
       "    </tr>\n",
       "    <tr>\n",
       "      <td>24</td>\n",
       "      <td>0.370782</td>\n",
       "      <td>0.379710</td>\n",
       "      <td>0.870221</td>\n",
       "      <td>00:49</td>\n",
       "    </tr>\n",
       "    <tr>\n",
       "      <td>25</td>\n",
       "      <td>0.368571</td>\n",
       "      <td>0.373319</td>\n",
       "      <td>0.866331</td>\n",
       "      <td>00:49</td>\n",
       "    </tr>\n",
       "    <tr>\n",
       "      <td>26</td>\n",
       "      <td>0.365003</td>\n",
       "      <td>0.362570</td>\n",
       "      <td>0.871745</td>\n",
       "      <td>00:49</td>\n",
       "    </tr>\n",
       "    <tr>\n",
       "      <td>27</td>\n",
       "      <td>0.341131</td>\n",
       "      <td>0.381123</td>\n",
       "      <td>0.872860</td>\n",
       "      <td>00:49</td>\n",
       "    </tr>\n",
       "    <tr>\n",
       "      <td>28</td>\n",
       "      <td>0.351053</td>\n",
       "      <td>0.371034</td>\n",
       "      <td>0.855282</td>\n",
       "      <td>00:49</td>\n",
       "    </tr>\n",
       "    <tr>\n",
       "      <td>29</td>\n",
       "      <td>0.329617</td>\n",
       "      <td>0.340753</td>\n",
       "      <td>0.875287</td>\n",
       "      <td>00:49</td>\n",
       "    </tr>\n",
       "    <tr>\n",
       "      <td>30</td>\n",
       "      <td>0.316658</td>\n",
       "      <td>0.334885</td>\n",
       "      <td>0.881465</td>\n",
       "      <td>00:49</td>\n",
       "    </tr>\n",
       "    <tr>\n",
       "      <td>31</td>\n",
       "      <td>0.310220</td>\n",
       "      <td>0.348559</td>\n",
       "      <td>0.882229</td>\n",
       "      <td>00:49</td>\n",
       "    </tr>\n",
       "    <tr>\n",
       "      <td>32</td>\n",
       "      <td>0.303797</td>\n",
       "      <td>0.333071</td>\n",
       "      <td>0.878015</td>\n",
       "      <td>00:49</td>\n",
       "    </tr>\n",
       "    <tr>\n",
       "      <td>33</td>\n",
       "      <td>0.294472</td>\n",
       "      <td>0.349401</td>\n",
       "      <td>0.876397</td>\n",
       "      <td>00:49</td>\n",
       "    </tr>\n",
       "    <tr>\n",
       "      <td>34</td>\n",
       "      <td>0.289201</td>\n",
       "      <td>0.306770</td>\n",
       "      <td>0.892438</td>\n",
       "      <td>00:49</td>\n",
       "    </tr>\n",
       "    <tr>\n",
       "      <td>35</td>\n",
       "      <td>0.285726</td>\n",
       "      <td>0.345539</td>\n",
       "      <td>0.886585</td>\n",
       "      <td>00:49</td>\n",
       "    </tr>\n",
       "    <tr>\n",
       "      <td>36</td>\n",
       "      <td>0.267365</td>\n",
       "      <td>0.311981</td>\n",
       "      <td>0.887992</td>\n",
       "      <td>00:49</td>\n",
       "    </tr>\n",
       "    <tr>\n",
       "      <td>37</td>\n",
       "      <td>0.279097</td>\n",
       "      <td>0.285991</td>\n",
       "      <td>0.889456</td>\n",
       "      <td>00:49</td>\n",
       "    </tr>\n",
       "    <tr>\n",
       "      <td>38</td>\n",
       "      <td>0.264315</td>\n",
       "      <td>0.304638</td>\n",
       "      <td>0.885619</td>\n",
       "      <td>00:49</td>\n",
       "    </tr>\n",
       "    <tr>\n",
       "      <td>39</td>\n",
       "      <td>0.265833</td>\n",
       "      <td>0.285318</td>\n",
       "      <td>0.898738</td>\n",
       "      <td>00:49</td>\n",
       "    </tr>\n",
       "    <tr>\n",
       "      <td>40</td>\n",
       "      <td>0.255707</td>\n",
       "      <td>0.272633</td>\n",
       "      <td>0.898999</td>\n",
       "      <td>00:49</td>\n",
       "    </tr>\n",
       "    <tr>\n",
       "      <td>41</td>\n",
       "      <td>0.250978</td>\n",
       "      <td>0.315538</td>\n",
       "      <td>0.902703</td>\n",
       "      <td>00:49</td>\n",
       "    </tr>\n",
       "    <tr>\n",
       "      <td>42</td>\n",
       "      <td>0.252489</td>\n",
       "      <td>0.316431</td>\n",
       "      <td>0.887581</td>\n",
       "      <td>00:49</td>\n",
       "    </tr>\n",
       "    <tr>\n",
       "      <td>43</td>\n",
       "      <td>0.246532</td>\n",
       "      <td>0.283869</td>\n",
       "      <td>0.897330</td>\n",
       "      <td>00:49</td>\n",
       "    </tr>\n",
       "    <tr>\n",
       "      <td>44</td>\n",
       "      <td>0.237249</td>\n",
       "      <td>0.305830</td>\n",
       "      <td>0.893931</td>\n",
       "      <td>00:49</td>\n",
       "    </tr>\n",
       "    <tr>\n",
       "      <td>45</td>\n",
       "      <td>0.234283</td>\n",
       "      <td>0.292212</td>\n",
       "      <td>0.908698</td>\n",
       "      <td>00:49</td>\n",
       "    </tr>\n",
       "    <tr>\n",
       "      <td>46</td>\n",
       "      <td>0.223122</td>\n",
       "      <td>0.313706</td>\n",
       "      <td>0.904579</td>\n",
       "      <td>00:49</td>\n",
       "    </tr>\n",
       "    <tr>\n",
       "      <td>47</td>\n",
       "      <td>0.237849</td>\n",
       "      <td>0.279625</td>\n",
       "      <td>0.898217</td>\n",
       "      <td>00:49</td>\n",
       "    </tr>\n",
       "    <tr>\n",
       "      <td>48</td>\n",
       "      <td>0.220506</td>\n",
       "      <td>0.269654</td>\n",
       "      <td>0.902155</td>\n",
       "      <td>00:49</td>\n",
       "    </tr>\n",
       "    <tr>\n",
       "      <td>49</td>\n",
       "      <td>0.199744</td>\n",
       "      <td>0.265018</td>\n",
       "      <td>0.909799</td>\n",
       "      <td>00:49</td>\n",
       "    </tr>\n",
       "    <tr>\n",
       "      <td>50</td>\n",
       "      <td>0.201473</td>\n",
       "      <td>0.248734</td>\n",
       "      <td>0.912169</td>\n",
       "      <td>00:49</td>\n",
       "    </tr>\n",
       "    <tr>\n",
       "      <td>51</td>\n",
       "      <td>0.214236</td>\n",
       "      <td>0.293761</td>\n",
       "      <td>0.913151</td>\n",
       "      <td>00:49</td>\n",
       "    </tr>\n",
       "    <tr>\n",
       "      <td>52</td>\n",
       "      <td>0.207870</td>\n",
       "      <td>0.282540</td>\n",
       "      <td>0.908200</td>\n",
       "      <td>00:49</td>\n",
       "    </tr>\n",
       "    <tr>\n",
       "      <td>53</td>\n",
       "      <td>0.203453</td>\n",
       "      <td>0.278522</td>\n",
       "      <td>0.919418</td>\n",
       "      <td>00:49</td>\n",
       "    </tr>\n",
       "    <tr>\n",
       "      <td>54</td>\n",
       "      <td>0.200275</td>\n",
       "      <td>0.248036</td>\n",
       "      <td>0.920289</td>\n",
       "      <td>00:49</td>\n",
       "    </tr>\n",
       "    <tr>\n",
       "      <td>55</td>\n",
       "      <td>0.206830</td>\n",
       "      <td>0.285851</td>\n",
       "      <td>0.911455</td>\n",
       "      <td>00:49</td>\n",
       "    </tr>\n",
       "    <tr>\n",
       "      <td>56</td>\n",
       "      <td>0.187584</td>\n",
       "      <td>0.286862</td>\n",
       "      <td>0.918766</td>\n",
       "      <td>00:49</td>\n",
       "    </tr>\n",
       "    <tr>\n",
       "      <td>57</td>\n",
       "      <td>0.172046</td>\n",
       "      <td>0.250224</td>\n",
       "      <td>0.912637</td>\n",
       "      <td>00:49</td>\n",
       "    </tr>\n",
       "    <tr>\n",
       "      <td>58</td>\n",
       "      <td>0.186520</td>\n",
       "      <td>0.273151</td>\n",
       "      <td>0.907944</td>\n",
       "      <td>00:49</td>\n",
       "    </tr>\n",
       "    <tr>\n",
       "      <td>59</td>\n",
       "      <td>0.173380</td>\n",
       "      <td>0.339104</td>\n",
       "      <td>0.929577</td>\n",
       "      <td>00:49</td>\n",
       "    </tr>\n",
       "    <tr>\n",
       "      <td>60</td>\n",
       "      <td>0.177542</td>\n",
       "      <td>0.277303</td>\n",
       "      <td>0.912468</td>\n",
       "      <td>00:49</td>\n",
       "    </tr>\n",
       "    <tr>\n",
       "      <td>61</td>\n",
       "      <td>0.186110</td>\n",
       "      <td>0.288114</td>\n",
       "      <td>0.908796</td>\n",
       "      <td>00:49</td>\n",
       "    </tr>\n",
       "    <tr>\n",
       "      <td>62</td>\n",
       "      <td>0.172503</td>\n",
       "      <td>0.311600</td>\n",
       "      <td>0.923059</td>\n",
       "      <td>00:49</td>\n",
       "    </tr>\n",
       "    <tr>\n",
       "      <td>63</td>\n",
       "      <td>0.166253</td>\n",
       "      <td>0.226422</td>\n",
       "      <td>0.913979</td>\n",
       "      <td>00:49</td>\n",
       "    </tr>\n",
       "    <tr>\n",
       "      <td>64</td>\n",
       "      <td>0.173203</td>\n",
       "      <td>0.442755</td>\n",
       "      <td>0.926341</td>\n",
       "      <td>00:49</td>\n",
       "    </tr>\n",
       "    <tr>\n",
       "      <td>65</td>\n",
       "      <td>0.163278</td>\n",
       "      <td>0.220927</td>\n",
       "      <td>0.921615</td>\n",
       "      <td>00:49</td>\n",
       "    </tr>\n",
       "    <tr>\n",
       "      <td>66</td>\n",
       "      <td>0.185802</td>\n",
       "      <td>0.257833</td>\n",
       "      <td>0.916315</td>\n",
       "      <td>00:49</td>\n",
       "    </tr>\n",
       "    <tr>\n",
       "      <td>67</td>\n",
       "      <td>0.165640</td>\n",
       "      <td>0.246354</td>\n",
       "      <td>0.926370</td>\n",
       "      <td>00:49</td>\n",
       "    </tr>\n",
       "    <tr>\n",
       "      <td>68</td>\n",
       "      <td>0.149837</td>\n",
       "      <td>0.254060</td>\n",
       "      <td>0.923621</td>\n",
       "      <td>00:49</td>\n",
       "    </tr>\n",
       "    <tr>\n",
       "      <td>69</td>\n",
       "      <td>0.152466</td>\n",
       "      <td>0.235142</td>\n",
       "      <td>0.917558</td>\n",
       "      <td>00:49</td>\n",
       "    </tr>\n",
       "    <tr>\n",
       "      <td>70</td>\n",
       "      <td>0.146567</td>\n",
       "      <td>0.219168</td>\n",
       "      <td>0.926420</td>\n",
       "      <td>00:49</td>\n",
       "    </tr>\n",
       "    <tr>\n",
       "      <td>71</td>\n",
       "      <td>0.148126</td>\n",
       "      <td>0.252326</td>\n",
       "      <td>0.923643</td>\n",
       "      <td>00:49</td>\n",
       "    </tr>\n",
       "    <tr>\n",
       "      <td>72</td>\n",
       "      <td>0.175146</td>\n",
       "      <td>0.278492</td>\n",
       "      <td>0.917755</td>\n",
       "      <td>00:49</td>\n",
       "    </tr>\n",
       "    <tr>\n",
       "      <td>73</td>\n",
       "      <td>0.173119</td>\n",
       "      <td>0.249113</td>\n",
       "      <td>0.914580</td>\n",
       "      <td>00:49</td>\n",
       "    </tr>\n",
       "    <tr>\n",
       "      <td>74</td>\n",
       "      <td>0.154953</td>\n",
       "      <td>0.238272</td>\n",
       "      <td>0.922076</td>\n",
       "      <td>00:49</td>\n",
       "    </tr>\n",
       "    <tr>\n",
       "      <td>75</td>\n",
       "      <td>0.137541</td>\n",
       "      <td>0.262684</td>\n",
       "      <td>0.938147</td>\n",
       "      <td>00:49</td>\n",
       "    </tr>\n",
       "    <tr>\n",
       "      <td>76</td>\n",
       "      <td>0.139018</td>\n",
       "      <td>0.250246</td>\n",
       "      <td>0.943477</td>\n",
       "      <td>00:49</td>\n",
       "    </tr>\n",
       "    <tr>\n",
       "      <td>77</td>\n",
       "      <td>0.143522</td>\n",
       "      <td>0.276377</td>\n",
       "      <td>0.916746</td>\n",
       "      <td>00:49</td>\n",
       "    </tr>\n",
       "    <tr>\n",
       "      <td>78</td>\n",
       "      <td>0.149308</td>\n",
       "      <td>0.213333</td>\n",
       "      <td>0.930010</td>\n",
       "      <td>00:49</td>\n",
       "    </tr>\n",
       "    <tr>\n",
       "      <td>79</td>\n",
       "      <td>0.135554</td>\n",
       "      <td>0.224951</td>\n",
       "      <td>0.938882</td>\n",
       "      <td>00:49</td>\n",
       "    </tr>\n",
       "    <tr>\n",
       "      <td>80</td>\n",
       "      <td>0.128369</td>\n",
       "      <td>0.238483</td>\n",
       "      <td>0.938128</td>\n",
       "      <td>00:49</td>\n",
       "    </tr>\n",
       "    <tr>\n",
       "      <td>81</td>\n",
       "      <td>0.137665</td>\n",
       "      <td>0.306667</td>\n",
       "      <td>0.933576</td>\n",
       "      <td>00:49</td>\n",
       "    </tr>\n",
       "    <tr>\n",
       "      <td>82</td>\n",
       "      <td>0.124797</td>\n",
       "      <td>0.280238</td>\n",
       "      <td>0.934728</td>\n",
       "      <td>00:49</td>\n",
       "    </tr>\n",
       "    <tr>\n",
       "      <td>83</td>\n",
       "      <td>0.125647</td>\n",
       "      <td>0.230801</td>\n",
       "      <td>0.931100</td>\n",
       "      <td>00:49</td>\n",
       "    </tr>\n",
       "    <tr>\n",
       "      <td>84</td>\n",
       "      <td>0.133231</td>\n",
       "      <td>0.255842</td>\n",
       "      <td>0.942386</td>\n",
       "      <td>00:49</td>\n",
       "    </tr>\n",
       "    <tr>\n",
       "      <td>85</td>\n",
       "      <td>0.124700</td>\n",
       "      <td>0.237662</td>\n",
       "      <td>0.937397</td>\n",
       "      <td>00:49</td>\n",
       "    </tr>\n",
       "    <tr>\n",
       "      <td>86</td>\n",
       "      <td>0.117062</td>\n",
       "      <td>0.218213</td>\n",
       "      <td>0.944800</td>\n",
       "      <td>00:49</td>\n",
       "    </tr>\n",
       "    <tr>\n",
       "      <td>87</td>\n",
       "      <td>0.108858</td>\n",
       "      <td>0.268723</td>\n",
       "      <td>0.942439</td>\n",
       "      <td>00:49</td>\n",
       "    </tr>\n",
       "    <tr>\n",
       "      <td>88</td>\n",
       "      <td>0.109432</td>\n",
       "      <td>0.221902</td>\n",
       "      <td>0.936174</td>\n",
       "      <td>00:49</td>\n",
       "    </tr>\n",
       "    <tr>\n",
       "      <td>89</td>\n",
       "      <td>0.104724</td>\n",
       "      <td>0.229428</td>\n",
       "      <td>0.936362</td>\n",
       "      <td>00:49</td>\n",
       "    </tr>\n",
       "    <tr>\n",
       "      <td>90</td>\n",
       "      <td>0.103035</td>\n",
       "      <td>0.242692</td>\n",
       "      <td>0.942397</td>\n",
       "      <td>00:49</td>\n",
       "    </tr>\n",
       "    <tr>\n",
       "      <td>91</td>\n",
       "      <td>0.100697</td>\n",
       "      <td>0.261062</td>\n",
       "      <td>0.949221</td>\n",
       "      <td>00:49</td>\n",
       "    </tr>\n",
       "    <tr>\n",
       "      <td>92</td>\n",
       "      <td>0.100258</td>\n",
       "      <td>0.240790</td>\n",
       "      <td>0.943956</td>\n",
       "      <td>00:49</td>\n",
       "    </tr>\n",
       "    <tr>\n",
       "      <td>93</td>\n",
       "      <td>0.094466</td>\n",
       "      <td>0.237538</td>\n",
       "      <td>0.943870</td>\n",
       "      <td>00:49</td>\n",
       "    </tr>\n",
       "    <tr>\n",
       "      <td>94</td>\n",
       "      <td>0.097515</td>\n",
       "      <td>0.247348</td>\n",
       "      <td>0.942542</td>\n",
       "      <td>00:49</td>\n",
       "    </tr>\n",
       "    <tr>\n",
       "      <td>95</td>\n",
       "      <td>0.089197</td>\n",
       "      <td>0.242119</td>\n",
       "      <td>0.943809</td>\n",
       "      <td>00:49</td>\n",
       "    </tr>\n",
       "    <tr>\n",
       "      <td>96</td>\n",
       "      <td>0.091434</td>\n",
       "      <td>0.246854</td>\n",
       "      <td>0.944127</td>\n",
       "      <td>00:49</td>\n",
       "    </tr>\n",
       "    <tr>\n",
       "      <td>97</td>\n",
       "      <td>0.089670</td>\n",
       "      <td>0.247408</td>\n",
       "      <td>0.943749</td>\n",
       "      <td>00:49</td>\n",
       "    </tr>\n",
       "    <tr>\n",
       "      <td>98</td>\n",
       "      <td>0.089505</td>\n",
       "      <td>0.253800</td>\n",
       "      <td>0.945225</td>\n",
       "      <td>00:49</td>\n",
       "    </tr>\n",
       "    <tr>\n",
       "      <td>99</td>\n",
       "      <td>0.090354</td>\n",
       "      <td>0.244516</td>\n",
       "      <td>0.946141</td>\n",
       "      <td>00:49</td>\n",
       "    </tr>\n",
       "  </tbody>\n",
       "</table>"
      ],
      "text/plain": [
       "<IPython.core.display.HTML object>"
      ]
     },
     "metadata": {
      "tags": []
     },
     "output_type": "display_data"
    }
   ],
   "source": [
    "learn.fit_one_cycle(100, lrs, pct_start=0.8)"
   ]
  },
  {
   "cell_type": "code",
   "execution_count": 60,
   "metadata": {
    "id": "DwdGGDd3ooXx"
   },
   "outputs": [],
   "source": [
    "learn.save('my_export')"
   ]
  }
 ],
 "metadata": {
  "accelerator": "GPU",
  "colab": {
   "collapsed_sections": [
    "mk2r-gCRCVb_",
    "nBWj9_LSC2G5",
    "UbxyIcZkDqBJ",
    "K7W20An-GnNm",
    "VE4zF162G-4z",
    "tRZoEiB8HJhI",
    "3oW77qUxHhkp",
    "3ojFnvRBHx8v",
    "KgZkM8M1IAxD",
    "_siWJq89IOdJ",
    "Uh1ZPx64gR56",
    "aT8l81QTjBrE",
    "33FD1Sc2j-k0",
    "4TAIZ9s4msq5",
    "D8N5E7BxnK7n",
    "XI-bgt6voXi9",
    "wAZbjvb40iMJ",
    "g5RVRyXL0_Uh",
    "eZ7SZZBN1KrS",
    "S0FHwE1p1RmR",
    "IO3-KXDsp4VB",
    "Ke8FATsZW1n_"
   ],
   "name": "Copy of RoadSurfaceSegmentation.ipynb",
   "provenance": []
  },
  "kernelspec": {
   "display_name": "Python 3",
   "language": "python",
   "name": "python3"
  },
  "language_info": {
   "codemirror_mode": {
    "name": "ipython",
    "version": 3
   },
   "file_extension": ".py",
   "mimetype": "text/x-python",
   "name": "python",
   "nbconvert_exporter": "python",
   "pygments_lexer": "ipython3",
   "version": "3.7.6"
  }
 },
 "nbformat": 4,
 "nbformat_minor": 1
}
